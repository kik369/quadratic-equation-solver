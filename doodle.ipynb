{
 "cells": [
  {
   "cell_type": "code",
   "execution_count": 2,
   "metadata": {},
   "outputs": [],
   "source": [
    "import math\n",
    "import matplotlib.pyplot as plt\n",
    "import numpy as np"
   ]
  },
  {
   "cell_type": "code",
   "execution_count": 3,
   "metadata": {},
   "outputs": [],
   "source": [
    "a = 1\n",
    "b = 4\n",
    "c = 5"
   ]
  },
  {
   "cell_type": "code",
   "execution_count": 4,
   "metadata": {},
   "outputs": [],
   "source": [
    "discriminant = (math.pow(b, 2) - 4*a*c)"
   ]
  },
  {
   "cell_type": "code",
   "execution_count": 5,
   "metadata": {},
   "outputs": [
    {
     "data": {
      "text/plain": [
       "-4.0"
      ]
     },
     "execution_count": 5,
     "metadata": {},
     "output_type": "execute_result"
    }
   ],
   "source": [
    "discriminant"
   ]
  },
  {
   "cell_type": "code",
   "execution_count": 6,
   "metadata": {},
   "outputs": [],
   "source": [
    "x_plot = []\n",
    "y_plot = []"
   ]
  },
  {
   "cell_type": "code",
   "execution_count": 7,
   "metadata": {},
   "outputs": [
    {
     "name": "stdout",
     "output_type": "stream",
     "text": [
      "Discriminant < 0\n",
      "Discriminant = -4.0\n",
      "Two complex solutions\n",
      "x1 = -2.0 + 1.0i\n",
      "x2 = -2.0 - 1.0i\n",
      "b = 4\n",
      "real_part = -2.0\n",
      "y_label = -2.0\n"
     ]
    }
   ],
   "source": [
    "if discriminant < 0:\n",
    "    print('Discriminant < 0')\n",
    "    print(f'Discriminant = {discriminant}')\n",
    "    print('Two complex solutions')\n",
    "    discriminant = discriminant * (-1)\n",
    "    imaginary = math.sqrt(discriminant) / (2*a)\n",
    "    real_part = -b / (2*a)\n",
    "    print(f'x1 = {real_part} + {imaginary}i')\n",
    "    print(f'x2 = {real_part} - {imaginary}i')\n",
    "    \n",
    "    print(f'b = {b}')\n",
    "    print(f'real_part = {real_part}')\n",
    "    y_label = (real_part + real_part) / 2\n",
    "    print(f'y_label = {y_label}')\n",
    "    \n",
    "    "
   ]
  },
  {
   "cell_type": "code",
   "execution_count": 8,
   "metadata": {},
   "outputs": [],
   "source": [
    "for x in np.linspace(-25, 25):\n",
    "        y = a * (x**2) + (b * x) + c\n",
    "        x_plot.append(x)\n",
    "        y_plot.append(y)\n"
   ]
  },
  {
   "cell_type": "code",
   "execution_count": 9,
   "metadata": {},
   "outputs": [
    {
     "data": {
      "image/png": "[encoded data removed]",
      "text/plain": [
       "<Figure size 432x288 with 1 Axes>"
      ]
     },
     "metadata": {
      "needs_background": "light"
     },
     "output_type": "display_data"
    }
   ],
   "source": [
    "y_label = (real_part * 2) / 2\n",
    "\n",
    "plt.plot(real_part, 0, marker='o')\n",
    "\n",
    "plt.plot(y_label, (-b / (2 * a)), marker='o')\n",
    "\n",
    "vertex = (-b / (2 * a))\n",
    "\n",
    "plt.text(real_part, 0, f'real_part = {real_part}')\n",
    "plt.text(y_label, vertex, f'vertex = {vertex}')\n",
    "plt.plot(x_plot, y_plot)\n",
    "plt.title(f'{a}x^2 + {b}x + {c}')\n",
    "plt.show()"
   ]
  },
  {
   "cell_type": "code",
   "execution_count": 11,
   "metadata": {},
   "outputs": [
    {
     "name": "stdout",
     "output_type": "stream",
     "text": [
      "-3.0\n",
      "-2.3333333333333335\n",
      "-1.6666666666666667\n",
      "-1.0\n",
      "-0.3333333333333335\n",
      "0.33333333333333304\n",
      "1.0\n",
      "1.666666666666666\n",
      "2.333333333333333\n",
      "3.0\n"
     ]
    }
   ],
   "source": [
    "for thingy in np.linspace(-3, 3, num=10):\n",
    "    print(thingy)"
   ]
  },
  {
   "cell_type": "code",
   "execution_count": 38,
   "metadata": {},
   "outputs": [],
   "source": []
  },
  {
   "cell_type": "code",
   "execution_count": 39,
   "metadata": {},
   "outputs": [
    {
     "data": {
      "text/plain": [
       "2.2"
      ]
     },
     "execution_count": 39,
     "metadata": {},
     "output_type": "execute_result"
    }
   ],
   "source": []
  },
  {
   "cell_type": "code",
   "execution_count": null,
   "metadata": {},
   "outputs": [],
   "source": []
  }
 ],
 "metadata": {
  "kernelspec": {
   "display_name": "Python 3",
   "language": "python",
   "name": "python3"
  },
  "language_info": {
   "codemirror_mode": {
    "name": "ipython",
    "version": 3
   },
   "file_extension": ".py",
   "mimetype": "text/x-python",
   "name": "python",
   "nbconvert_exporter": "python",
   "pygments_lexer": "ipython3",
   "version": "3.7.1"
  }
 },
 "nbformat": 4,
 "nbformat_minor": 4
}
