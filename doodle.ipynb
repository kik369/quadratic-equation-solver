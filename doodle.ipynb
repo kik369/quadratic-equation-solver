{
 "cells": [
  {
   "cell_type": "code",
   "execution_count": 31,
   "metadata": {},
   "outputs": [],
   "source": [
    "import math\n",
    "import matplotlib.pyplot as plt\n",
    "import numpy as np"
   ]
  },
  {
   "cell_type": "code",
   "execution_count": 32,
   "metadata": {},
   "outputs": [],
   "source": [
    "a = 1\n",
    "b = 4\n",
    "c = 5"
   ]
  },
  {
   "cell_type": "code",
   "execution_count": 33,
   "metadata": {},
   "outputs": [],
   "source": [
    "discriminant = (math.pow(b, 2) - 4*a*c)"
   ]
  },
  {
   "cell_type": "code",
   "execution_count": 34,
   "metadata": {},
   "outputs": [
    {
     "data": {
      "text/plain": [
       "-4.0"
      ]
     },
     "execution_count": 34,
     "metadata": {},
     "output_type": "execute_result"
    }
   ],
   "source": [
    "discriminant"
   ]
  },
  {
   "cell_type": "code",
   "execution_count": 35,
   "metadata": {},
   "outputs": [],
   "source": [
    "x_plot = []\n",
    "y_plot = []"
   ]
  },
  {
   "cell_type": "code",
   "execution_count": 36,
   "metadata": {},
   "outputs": [
    {
     "name": "stdout",
     "output_type": "stream",
     "text": [
      "Discriminant < 0\n",
      "Discriminant = -4.0\n",
      "Two complex solutions\n",
      "x1 = -2.0 + 1.0i\n",
      "x2 = -2.0 - 1.0i\n",
      "b = 4\n",
      "newb = -2.0\n",
      "y_label = -2.0\n"
     ]
    }
   ],
   "source": [
    "if discriminant < 0:\n",
    "    print('Discriminant < 0')\n",
    "    print(f'Discriminant = {discriminant}')\n",
    "    print('Two complex solutions')\n",
    "    discriminant = discriminant * (-1)\n",
    "    imaginary = math.sqrt(discriminant) / (2*a)\n",
    "    real_part = -b / (2*a)\n",
    "    print(f'x1 = {real_part} + {imaginary}i')\n",
    "    print(f'x2 = {real_part} - {imaginary}i')\n",
    "    \n",
    "    print(f'b = {b}')\n",
    "    print(f'real_part = {real_part}')\n",
    "    y_label = (real_part + real_part) / 2\n",
    "    print(f'y_label = {y_label}')\n",
    "    \n",
    "    "
   ]
  },
  {
   "cell_type": "code",
   "execution_count": 30,
   "metadata": {},
   "outputs": [],
   "source": [
    "for x in np.linspace(-25, 25):\n",
    "        y = a * (x**2) + (b * x) + c\n",
    "        x_plot.append(x)\n",
    "        y_plot.append(y)\n"
   ]
  },
  {
   "cell_type": "code",
   "execution_count": 12,
   "metadata": {},
   "outputs": [
    {
     "data": {
      "image/png": "[encoded data removed]",
      "text/plain": [
       "<Figure size 432x288 with 1 Axes>"
      ]
     },
     "metadata": {
      "needs_background": "light"
     },
     "output_type": "display_data"
    }
   ],
   "source": [
    "y_label = (real_part * 2) / 2\n",
    "\n",
    "plt.plot(real_part, 0, marker='o')\n",
    "\n",
    "plt.plot(y_label, (-b / (2 * a)), marker='o')\n",
    "\n",
    "vertex = (-b / (2 * a))\n",
    "\n",
    "plt.text(real_part, 0, f'real_part = {real_part}')\n",
    "plt.text(y_label, vertex, f'vertex = {vertex}')\n",
    "plt.plot(x_plot, y_plot)\n",
    "plt.title(f'{a}x^2 + {b}x + {c}')\n",
    "plt.show()"
   ]
  },
  {
   "cell_type": "code",
   "execution_count": 37,
   "metadata": {},
   "outputs": [
    {
     "name": "stdout",
     "output_type": "stream",
     "text": [
      "-25.0\n",
      "-23.979591836734695\n",
      "-22.959183673469386\n",
      "-21.93877551020408\n",
      "-20.918367346938776\n",
      "-19.89795918367347\n",
      "-18.877551020408163\n",
      "-17.857142857142858\n",
      "-16.836734693877553\n",
      "-15.816326530612244\n",
      "-14.795918367346939\n",
      "-13.775510204081632\n",
      "-12.755102040816325\n",
      "-11.73469387755102\n",
      "-10.714285714285714\n",
      "-9.693877551020408\n",
      "-8.673469387755102\n",
      "-7.653061224489797\n",
      "-6.632653061224488\n",
      "-5.612244897959183\n",
      "-4.591836734693878\n",
      "-3.5714285714285694\n",
      "-2.5510204081632644\n",
      "-1.5306122448979593\n",
      "-0.5102040816326507\n",
      "0.5102040816326543\n",
      "1.5306122448979593\n",
      "2.5510204081632644\n",
      "3.571428571428573\n",
      "4.591836734693878\n",
      "5.612244897959183\n",
      "6.632653061224492\n",
      "7.653061224489797\n",
      "8.673469387755105\n",
      "9.693877551020407\n",
      "10.714285714285715\n",
      "11.734693877551024\n",
      "12.755102040816325\n",
      "13.775510204081634\n",
      "14.795918367346943\n",
      "15.816326530612244\n",
      "16.836734693877553\n",
      "17.85714285714286\n",
      "18.877551020408163\n",
      "19.89795918367347\n",
      "20.91836734693878\n",
      "21.93877551020408\n",
      "22.95918367346939\n",
      "23.9795918367347\n",
      "25.0\n"
     ]
    }
   ],
   "source": [
    "for thingy in np.linspace(-25, 25):\n",
    "    print(thingy)"
   ]
  },
  {
   "cell_type": "code",
   "execution_count": 38,
   "metadata": {},
   "outputs": [],
   "source": []
  },
  {
   "cell_type": "code",
   "execution_count": 39,
   "metadata": {},
   "outputs": [
    {
     "data": {
      "text/plain": [
       "2.2"
      ]
     },
     "execution_count": 39,
     "metadata": {},
     "output_type": "execute_result"
    }
   ],
   "source": []
  },
  {
   "cell_type": "code",
   "execution_count": null,
   "metadata": {},
   "outputs": [],
   "source": []
  }
 ],
 "metadata": {
  "kernelspec": {
   "display_name": "Python 3",
   "language": "python",
   "name": "python3"
  },
  "language_info": {
   "codemirror_mode": {
    "name": "ipython",
    "version": 3
   },
   "file_extension": ".py",
   "mimetype": "text/x-python",
   "name": "python",
   "nbconvert_exporter": "python",
   "pygments_lexer": "ipython3",
   "version": "3.7.1"
  }
 },
 "nbformat": 4,
 "nbformat_minor": 4
}
